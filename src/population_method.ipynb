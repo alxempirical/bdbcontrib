{
 "cells": [
  {
   "cell_type": "code",
   "execution_count": 1,
   "metadata": {
    "collapsed": true
   },
   "outputs": [],
   "source": [
    "%matplotlib inline\n",
    "from bdbcontrib import quickstart"
   ]
  },
  {
   "cell_type": "code",
   "execution_count": 2,
   "metadata": {
    "collapsed": false
   },
   "outputs": [
    {
     "name": "stdout",
     "output_type": "stream",
     "text": [
      "Help on function quickstart in module bdbcontrib:\n",
      "\n",
      "quickstart(*args, **kwargs)\n",
      "    Create a Population object, wrapping a bayeslite.BayesDB.\n",
      "    \n",
      "    name : str  REQUIRED.\n",
      "        A name for the population, should use letters and underscores only.\n",
      "        This will also be used as a table name in the bdb, and %t in queries\n",
      "        will expand to this name. %g in queries will expand to the current\n",
      "        population metamodel, also based on this name.\n",
      "    csv_path : str\n",
      "        The path to a comma-separated values file. If specified, will be used\n",
      "        to populate the bdb. It must exist and be both readable and non-empty.\n",
      "    df : pandas.DataFrame\n",
      "        If specified, these data will be used to populate the bdb, superseding\n",
      "        any csv_path. It must not be empty.\n",
      "    bdb_path : str\n",
      "        If specified, store data and analysis results here. If no other data\n",
      "        source (csv or df) is specified, then it must already have been\n",
      "        populated. If not specified, we will use a volatile in-memory bdb.\n",
      "    logger : object\n",
      "        Something on which we can call .info or .warn to send messages to the\n",
      "        user. By default a bayeslite.loggers.BqlLogger, but could be QuietLogger\n",
      "        (only results), SilentLogger (nothing), IpyLogger, CaptureLogger,\n",
      "        LoggingLogger, or anything else that implements the BqlLogger interface.\n",
      "    session_capture_name : String\n",
      "        Signing up with your name and email and sending your session details\n",
      "        to the MIT Probabilistic Computing Group helps build a community of\n",
      "        support and helps improve your user experience. You can save your choice\n",
      "        in a file called 'bayesdb-session-capture-opt.txt' in the directory\n",
      "        where you run the software, or any parent directory. This option\n",
      "        overrides any setting in such a file. Any string is interpreted as\n",
      "        opting in to sending session details. False is interpreted as opting\n",
      "        out. You must choose. If you choose to use an organization name or\n",
      "        email, then please send a note to bayesdb@mit.edu to help us connect\n",
      "        your sessions to you.\n",
      "    \n",
      "        If you encounter a bug, or something surprising, please include your\n",
      "        session capture name in your report.\n",
      "    \n",
      "        If you opt out, you still allow us to count how often users opt out.\n",
      "    \n",
      "        DO NOT USE THIS SOFTWARE FOR HIPAA-COVERED, PERSONALLY IDENTIFIABLE,\n",
      "        OR SIMILARLY SENSITIVE DATA! Opting out does not guarantee security.\n",
      "\n"
     ]
    }
   ],
   "source": [
    "help(quickstart)"
   ]
  },
  {
   "cell_type": "code",
   "execution_count": null,
   "metadata": {
    "collapsed": false
   },
   "outputs": [
    {
     "name": "stderr",
     "output_type": "stream",
     "text": [
      "ERROR: \n",
      "Please set session_capture_name option to quickstart\n",
      "  to either opt-in or opt-out of sending details of your usage of\n",
      "  this software to the MIT Probabilistic Computing Group.\n",
      "\n",
      "If you see this in one of our example notebooks,\n",
      "  return to the starting page, the Index.ipynb, to\n",
      "  make that choice.\n"
     ]
    }
   ],
   "source": [
    "s = quickstart(\"satellites\", bdb_path=\"examples/satellites/satellites.bdb\")"
   ]
  },
  {
   "cell_type": "code",
   "execution_count": 61,
   "metadata": {
    "collapsed": false
   },
   "outputs": [
    {
     "data": {
      "text/html": [
       "<dib class=\"inner_cell\" style=\"background-color:#F7F8E0\">BQL [SELECT * FROM bayesdb_generator] ()</div>"
      ]
     },
     "metadata": {},
     "output_type": "display_data"
    }
   ],
   "source": [
    "s = quickstart(\"satellites\", bdb_path=\"satellites.bdb\", session_capture_name=\"Demo\")"
   ]
  },
  {
   "cell_type": "code",
   "execution_count": 5,
   "metadata": {
    "collapsed": false
   },
   "outputs": [
    {
     "name": "stdout",
     "output_type": "stream",
     "text": [
      "Help on Population in module bdbcontrib.population object:\n",
      "\n",
      "class Population(__builtin__.object)\n",
      " |  Generative Population Model, wraps a BayesDB, and tracks one population.\n",
      " |  \n",
      " |  Methods defined here:\n",
      " |  \n",
      " |  __init__(self, name, csv_path=None, bdb_path=None, df=None, logger=None, session_capture_name=None)\n",
      " |      Create a Population object, wrapping a bayeslite.BayesDB.\n",
      " |      \n",
      " |      name : str  REQUIRED.\n",
      " |          A name for the population, should use letters and underscores only.\n",
      " |          This will also be used as a table name in the bdb, and %t in queries\n",
      " |          will expand to this name. %g in queries will expand to the current\n",
      " |          population metamodel, also based on this name.\n",
      " |      csv_path : str\n",
      " |          The path to a comma-separated values file. If specified, will be used\n",
      " |          to populate the bdb. It must exist and be both readable and non-empty.\n",
      " |      df : pandas.DataFrame\n",
      " |          If specified, these data will be used to populate the bdb, superseding\n",
      " |          any csv_path. It must not be empty.\n",
      " |      bdb_path : str\n",
      " |          If specified, store data and analysis results here. If no other data\n",
      " |          source (csv or df) is specified, then it must already have been\n",
      " |          populated. If not specified, we will use a volatile in-memory bdb.\n",
      " |      logger : object\n",
      " |          Something on which we can call .info or .warn to send messages to the\n",
      " |          user. By default a bayeslite.loggers.BqlLogger, but could be QuietLogger\n",
      " |          (only results), SilentLogger (nothing), IpyLogger, CaptureLogger,\n",
      " |          LoggingLogger, or anything else that implements the BqlLogger interface.\n",
      " |      session_capture_name : String\n",
      " |          Signing up with your name and email and sending your session details\n",
      " |          to the MIT Probabilistic Computing Group helps build a community of\n",
      " |          support and helps improve your user experience. You can save your choice\n",
      " |          in a file called 'bayesdb-session-capture-opt.txt' in the directory\n",
      " |          where you run the software, or any parent directory. This option\n",
      " |          overrides any setting in such a file. Any string is interpreted as\n",
      " |          opting in to sending session details. False is interpreted as opting\n",
      " |          out. You must choose. If you choose to use an organization name or\n",
      " |          email, then please send a note to bayesdb@mit.edu to help us connect\n",
      " |          your sessions to you.\n",
      " |      \n",
      " |          If you encounter a bug, or something surprising, please include your\n",
      " |          session capture name in your report.\n",
      " |      \n",
      " |          If you opt out, you still allow us to count how often users opt out.\n",
      " |      \n",
      " |          DO NOT USE THIS SOFTWARE FOR HIPAA-COVERED, PERSONALLY IDENTIFIABLE,\n",
      " |          OR SIMILARLY SENSITIVE DATA! Opting out does not guarantee security.\n",
      " |  \n",
      " |  analysis_status(self)\n",
      " |      Return the count of models for each number of iterations run.\n",
      " |  \n",
      " |  analyze(self, models=100, minutes=0, iterations=0, checkpoint=0)\n",
      " |      Run analysis.\n",
      " |      \n",
      " |      models : integer\n",
      " |          The number of models bounds the accuracy of predictive probabilities.\n",
      " |          With ten models, then you get one decimal digit of interpretability,\n",
      " |          with a hundred models, you get two, and so on.\n",
      " |      minutes : integer\n",
      " |          How long you want to let it run.\n",
      " |      iterations : integer\n",
      " |          How many iterations to let it run.\n",
      " |      \n",
      " |      Returns:\n",
      " |          A report indicating how many models have seen how many iterations,\n",
      " |          and other info about model stability.\n",
      " |  \n",
      " |  barplot = as_population_method(self, *args, **kwargs)\n",
      " |      Make bar-plot from categories and their heights.\n",
      " |      \n",
      " |      First column specifies names; second column specifies heights.\n",
      " |      \n",
      " |      Parameters\n",
      " |      ----------\n",
      " |      \n",
      " |      df : a pandas.DataFrame or BQL query.\n",
      " |      \n",
      " |      Returns\n",
      " |      ----------\n",
      " |      figure: matplotlib.figure.Figure\n",
      " |  \n",
      " |  cardinality = as_population_method(self, *args, **kwargs)\n",
      " |      Compute the number of unique values in the columns of a table.\n",
      " |      \n",
      " |      Parameters\n",
      " |      ----------\n",
      " |      \n",
      " |      table : str\n",
      " |          Name of table.\n",
      " |      cols : list<str>, optional\n",
      " |          Columns to compute the unique values. Defaults to all.\n",
      " |      \n",
      " |      Returns\n",
      " |      -------\n",
      " |      counts : list<tuple<str,int>>\n",
      " |          A list of tuples of the form [(col_1, cardinality_1), ...]\n",
      " |  \n",
      " |  check_representation(self)\n",
      " |  \n",
      " |  describe_generator = as_population_method(self, *args, **kwargs)\n",
      " |      Returns a DataFrame containing description of `generator_name`.\n",
      " |      \n",
      " |      Examples\n",
      " |      --------\n",
      " |      \n",
      " |      >>> bdbcontrib.describe_generator(bdb, 'employees_gen')\n",
      " |      id |          name |   tabname | metamodel\n",
      " |      ---+---------------+-----------+----------\n",
      " |      3  | employees_gen | employees |  crosscat\n",
      " |  \n",
      " |  describe_generator_columns = as_population_method(self, *args, **kwargs)\n",
      " |      Returns a DataFrame containing description of the columns\n",
      " |      modeled by `generator_name`.\n",
      " |      \n",
      " |      Examples\n",
      " |      --------\n",
      " |      \n",
      " |      >>> bdbcontrib.describe_generator_columns(bdb, 'employees_gen')\n",
      " |      colno |    name |     stattype\n",
      " |      ------+---------+-------------\n",
      " |          0 |    name |  categorical\n",
      " |          1 |     age |    numerical\n",
      " |          2 |  weight |    numerical\n",
      " |          3 |  height |    numerical\n",
      " |  \n",
      " |  describe_generator_models = as_population_method(self, *args, **kwargs)\n",
      " |      Returns a DataFrame containing description of the models\n",
      " |      in `generator_name`.\n",
      " |      \n",
      " |      Examples\n",
      " |      --------\n",
      " |      \n",
      " |      >>> bdbcontrib.describe_generator_models(bdb, 'employees_gen')\n",
      " |      modelno | iterations\n",
      " |      --------+-----------\n",
      " |            0 | 100\n",
      " |  \n",
      " |  describe_table = as_population_method(self, *args, **kwargs)\n",
      " |      Returns a DataFrame containing description of `table_name`.\n",
      " |      \n",
      " |      Examples\n",
      " |      --------\n",
      " |      >>> bdbcontrib.describe_table(bdb, 'employees')\n",
      " |      tabname   | colno |    name\n",
      " |      ----------+-------+--------\n",
      " |      employees |     0 |    name\n",
      " |      employees |     1 |     age\n",
      " |      employees |     2 |  weight\n",
      " |      employees |     3 |  height\n",
      " |  \n",
      " |  get_column_stattype = as_population_method(self, *args, **kwargs)\n",
      " |  \n",
      " |  heatmap = as_population_method(self, *args, **kwargs)\n",
      " |      Plot clustered heatmaps for the given dependencies.\n",
      " |      \n",
      " |      Parameters\n",
      " |      ----------\n",
      " |      \n",
      " |      deps : a pandas.DataFrame or BQL query.\n",
      " |          Must have columns=['generator_id', 'name0', 'name1', 'value'],\n",
      " |          I.e. the result of a BQL query of the form 'ESTIMATE ... PAIRWISE ...'.\n",
      " |          E.g., DEPENDENCE PROBABILITY, MUTUAL INFORMATION, COVARIANCE, etc.\n",
      " |      \n",
      " |      **kwargs : dict\n",
      " |          Passed to zmatrix: vmin, vmax, row_ordering, col_ordering\n",
      " |      \n",
      " |      Returns a seaborn.clustermap (a kind of matplotlib.Figure)\n",
      " |  \n",
      " |  histogram = as_population_method(self, *args, **kwargs)\n",
      " |      Plot histogram of one- or two-column table.\n",
      " |      \n",
      " |      If two-column, subdivide the first column according to labels in\n",
      " |      the second column\n",
      " |      \n",
      " |      Parameters\n",
      " |      ----------\n",
      " |      \n",
      " |      df : a pandas.DataFrame or BQL query.\n",
      " |      nbins : int, optional\n",
      " |          Number of bins in the histogram.\n",
      " |      normed : bool, optional\n",
      " |          If True, normalizes the the area of the histogram (or each\n",
      " |          sub-histogram if df has two columns) to 1.\n",
      " |      \n",
      " |      Returns\n",
      " |      ----------\n",
      " |      figure: matplotlib.figure.Figure\n",
      " |  \n",
      " |  initialize(self)\n",
      " |  \n",
      " |  initialize_session_capture(self, name)\n",
      " |  \n",
      " |  interpret_bql(self, query_string)\n",
      " |      Replace %t and %g as appropriate.\n",
      " |  \n",
      " |  mi_hist = as_population_method(self, *args, **kwargs)\n",
      " |      Histogram of estimated mutual information between the two columns for each\n",
      " |      of a generator's model instances.\n",
      " |      \n",
      " |      Parameters\n",
      " |      ----------\n",
      " |      bdb : bayeslite.BayesDB\n",
      " |          Active BayesDB instance.\n",
      " |      generator_name : str\n",
      " |          Name of the generator to compute MI(col1;col2)\n",
      " |      col1, col2 : str\n",
      " |          Name of the columns to compute MI(col1;col2)\n",
      " |      num_samples : int, optional\n",
      " |          Number of samples to use in the Monte Carlo estimate of MI.\n",
      " |      bins : int, optional\n",
      " |          Number of bins in the histogram.\n",
      " |      \n",
      " |      Returns\n",
      " |      -------\n",
      " |      figure : matplotlib.figure.Figure\n",
      " |  \n",
      " |  nullify = as_population_method(self, *args, **kwargs)\n",
      " |      Replace specified values in a SQL table with ``NULL``.\n",
      " |      \n",
      " |      Parameters\n",
      " |      ----------\n",
      " |      \n",
      " |      table : str\n",
      " |          The name of the table on which to act\n",
      " |      value : stringable\n",
      " |          The value to replace with ``NULL``\n",
      " |      \n",
      " |      Examples\n",
      " |      --------\n",
      " |      >>> import bayeslite\n",
      " |      >>> from bdbcontrib import plotutils\n",
      " |      >>> with bayeslite.bayesdb_open('mydb.bdb') as bdb:\n",
      " |      >>>    bdbcontrib.nullify(bdb, 'mytable', 'NaN')\n",
      " |  \n",
      " |  pairplot = as_population_method(self, *args, **kwargs)\n",
      " |      Plot array of plots for all pairs of columns.\n",
      " |      \n",
      " |      Plots continuous-continuous pairs as scatter (optional KDE contour).\n",
      " |      Plots continuous-categorical pairs as violinplot.\n",
      " |      Plots categorical-categorical pairs as heatmap.\n",
      " |      \n",
      " |      Parameters\n",
      " |      ----------\n",
      " |      \n",
      " |      df : a pandas.DataFrame or BQL query.\n",
      " |      \n",
      " |      show_contour : bool, optional\n",
      " |          If True, KDE contours are plotted on top of scatter plots\n",
      " |          and histograms.\n",
      " |      show_missing : bool, optional\n",
      " |          If True, rows with one missing value are plotted as lines on scatter\n",
      " |          plots.\n",
      " |      colorby : str, optional\n",
      " |          Name of a column to use to color data points in histograms and scatter\n",
      " |          plots.\n",
      " |      show_full : bool, optional\n",
      " |          Show full pairwise plots, rather than only lower triangular plots.\n",
      " |      **kwargs : dict, optional\n",
      " |          Options to pass through to underlying plotter for pairs.\n",
      " |      \n",
      " |      Returns\n",
      " |      -------\n",
      " |      figure : matplotlib.figure.Figure\n",
      " |  \n",
      " |  pairplot_vars = as_population_method(self, *args, **kwargs)\n",
      " |      Use pairplot to show the given variables.\n",
      " |      \n",
      " |      See help(pairplot) for more plot options.\n",
      " |      \n",
      " |      Parameters\n",
      " |      ----------\n",
      " |      \n",
      " |      varnames: list of one or more variables to plot.\n",
      " |      \n",
      " |      colorby: categorical variable to color all of the plots by.\n",
      " |      \n",
      " |      Returns\n",
      " |      -------\n",
      " |      figure: a matplotlib.figure.Figure\n",
      " |  \n",
      " |  per_model_analysis_status(self)\n",
      " |      Return the number of iterations for each model.\n",
      " |  \n",
      " |  q = as_population_method(self, *args, **kwargs)\n",
      " |      Execute the `bql` query on the `bdb` instance.\n",
      " |      \n",
      " |      Parameters\n",
      " |      ----------\n",
      " |      \n",
      " |      bql : A BQL query.\n",
      " |      You can also use %t and %g for the population-associated table name and\n",
      " |      the name of the population's generative-population-model-instance-generator,\n",
      " |      respectively.\n",
      " |      bindings : Values to safely fill in for '?' in the BQL query.\n",
      " |      \n",
      " |      Returns\n",
      " |      -------\n",
      " |      df : pandas.DataFrame\n",
      " |          Table of results as a pandas dataframe.\n",
      " |  \n",
      " |  query = as_population_method(self, *args, **kwargs)\n",
      " |      Execute the `bql` query on the `bdb` instance.\n",
      " |      \n",
      " |      Parameters\n",
      " |      ----------\n",
      " |      \n",
      " |      bql : A BQL query.\n",
      " |      You can also use %t and %g for the population-associated table name and\n",
      " |      the name of the population's generative-population-model-instance-generator,\n",
      " |      respectively.\n",
      " |      bindings : Values to safely fill in for '?' in the BQL query.\n",
      " |      \n",
      " |      Returns\n",
      " |      -------\n",
      " |      df : pandas.DataFrame\n",
      " |          Table of results as a pandas dataframe.\n",
      " |  \n",
      " |  quick_describe_columns = as_population_method(self, *args, **kwargs)\n",
      " |      Returns a DataFrame containing description of the columns\n",
      " |      modeled by `generator_name`.\n",
      " |      \n",
      " |      Examples\n",
      " |      --------\n",
      " |      \n",
      " |      >>> bdbcontrib.describe_generator_columns(bdb, 'employees_gen')\n",
      " |      colno |    name |     stattype\n",
      " |      ------+---------+-------------\n",
      " |          0 |    name |  categorical\n",
      " |          1 |     age |    numerical\n",
      " |          2 |  weight |    numerical\n",
      " |          3 |  height |    numerical\n",
      " |  \n",
      " |  quick_explore_vars = as_population_method(self, *args, **kwargs)\n",
      " |      Show dependence probabilities and neighborhoods based on those.\n",
      " |      \n",
      " |      varnames: list of strings\n",
      " |          At least two column names to look at dependence probabilities of,\n",
      " |          and to explore neighborhoods of.\n",
      " |      nsimilar: positive integer\n",
      " |          The size of the neighborhood to explore.\n",
      " |  \n",
      " |  quick_similar_rows = as_population_method(self, *args, **kwargs)\n",
      " |      Explore rows similar to the identified one.\n",
      " |      \n",
      " |      identify_row_by : dict\n",
      " |          Dictionary of column names to their values. These will be turned into\n",
      " |          a WHERE clause in BQL, and must identify one unique row.\n",
      " |      nsimilar : positive integer\n",
      " |          The number of similar rows to retrieve.\n",
      " |  \n",
      " |  reset(self)\n",
      " |  \n",
      " |  specifier_to_df(self, spec)\n",
      " |  \n",
      " |  sql_tracing(self, turn_on=True)\n",
      " |      Trace underlying SQL, for debugging.\n",
      " |  \n",
      " |  vartype = as_population_method(self, *args, **kwargs)\n",
      " |  \n",
      " |  ----------------------------------------------------------------------\n",
      " |  Class methods defined here:\n",
      " |  \n",
      " |  method_imports(cls) from __builtin__.type\n",
      " |      Runs decorators that add methods to Population.\n",
      " |  \n",
      " |  ----------------------------------------------------------------------\n",
      " |  Data descriptors defined here:\n",
      " |  \n",
      " |  __dict__\n",
      " |      dictionary for instance variables (if defined)\n",
      " |  \n",
      " |  __weakref__\n",
      " |      list of weak references to the object (if defined)\n",
      "\n"
     ]
    }
   ],
   "source": [
    "help(s)"
   ]
  },
  {
   "cell_type": "code",
   "execution_count": 8,
   "metadata": {
    "collapsed": false,
    "scrolled": true
   },
   "outputs": [
    {
     "name": "stdout",
     "output_type": "stream",
     "text": [
      "Help on function population_method in module bdbcontrib.population_method:\n",
      "\n",
      "population_method(**argspec_transforms)\n",
      "    Create a method in the Population class to encapsulate this function.\n",
      "    \n",
      "    Fill in documentation holes, but otherwise leave the function itself\n",
      "    untouched for library use.\n",
      "    \n",
      "    For the types below, \"arg\" is a zero-indexed positional argument number\n",
      "    or a keyword argument name as a string. For keyword arguments, if the\n",
      "    caller provides a value, we leave it untouched. Positional arguments may\n",
      "    either be kept and transformed, or hidden from the argument list. If\n",
      "    the transform takes both a population and an arg, then it is kept and the\n",
      "    arg is transformed. If it takes only a population, then it is hidden (there\n",
      "    is no corresponding positional argument in the method, the documentation\n",
      "    line is removed, and other positional arguments shift to accommodate).\n",
      "    \n",
      "    __PT_DOC__\n",
      "    \n",
      "    In your method's docstring, use the above names with underscores to\n",
      "    get their appropriate documentation (if you want it replaced). For\n",
      "    example, use __population_name__ in place of the lines where you\n",
      "    would put the population name parameter's description, after its name.\n",
      "    \n",
      "    For those transformations that do not have an [arg], if their documentation\n",
      "    line starts with the parameter name, then a colon, then the double\n",
      "    underscored transformation name, then the entire line is removed.\n",
      "    For example, a documentation line like\n",
      "      table : __population_name__\n",
      "    would be entirely removed from the method docstring, because that argument\n",
      "    is filled in using the population instance, rather than being requested\n",
      "    from the caller.\n",
      "\n"
     ]
    }
   ],
   "source": [
    "from bdbcontrib.population_method import population_method\n",
    "help(population_method)"
   ]
  },
  {
   "cell_type": "code",
   "execution_count": 12,
   "metadata": {
    "collapsed": false
   },
   "outputs": [
    {
     "name": "stdout",
     "output_type": "stream",
     "text": [
      "population: \n",
      "\tPasses on the population object itself.\n",
      "interpret_bql: [argspec]\n",
      "\tFills in %t and %g in a BQL query.\n",
      "specifier_to_df: [argspec]\n",
      "\tQueries to create a dataframe from BQL if need be.\n",
      "population_to_bdb: \n",
      "\tProvides the population's BayesDB instance.\n",
      "population_name: \n",
      "\tProvides the population's name.\n",
      "generator_name: \n",
      "\tProvides the population's generative population model's name.\n",
      "logger: \n",
      "\tProvides a logger to which one can .info, .warn, .plot, etc.\n"
     ]
    }
   ],
   "source": [
    "from bdbcontrib.population_method import PT_DOC\n",
    "print PT_DOC"
   ]
  },
  {
   "cell_type": "code",
   "execution_count": 9,
   "metadata": {
    "collapsed": false
   },
   "outputs": [
    {
     "data": {
      "text/plain": [
       "'satellites'"
      ]
     },
     "execution_count": 9,
     "metadata": {},
     "output_type": "execute_result"
    }
   ],
   "source": [
    "@population_method(population=0)\n",
    "def my_name(self):\n",
    "    return self.name\n",
    "s.my_name()"
   ]
  },
  {
   "cell_type": "code",
   "execution_count": 18,
   "metadata": {
    "collapsed": false
   },
   "outputs": [
    {
     "data": {
      "text/plain": [
       "{'bare function with default:': 104,\n",
       " 'bare function with override:': 109,\n",
       " 'method with default:': 110,\n",
       " 'method with override:': 103}"
      ]
     },
     "execution_count": 18,
     "metadata": {},
     "output_type": "execute_result"
    }
   ],
   "source": [
    "@population_method(population_name='myname')\n",
    "def name_length_plus_k(k, myname=\"name\"):\n",
    "    return k + len(myname)\n",
    "{'method with default:': s.name_length_plus_k(100), \n",
    " 'method with override:': s.name_length_plus_k(100, myname=\"foo\"), \n",
    " 'bare function with default:': name_length_plus_k(100),\n",
    " 'bare function with override:': name_length_plus_k(100, myname=\"Asher Lev\")}"
   ]
  },
  {
   "cell_type": "code",
   "execution_count": 22,
   "metadata": {
    "collapsed": false
   },
   "outputs": [
    {
     "data": {
      "text/html": [
       "<dib class=\"inner_cell\" style=\"background-color:#F7F8E0\">BQL [SELECT COUNT(*) FROM \"satellites\"] ()</div>"
      ]
     },
     "metadata": {},
     "output_type": "display_data"
    },
    {
     "data": {
      "text/plain": [
       "1167.0"
      ]
     },
     "execution_count": 22,
     "metadata": {},
     "output_type": "execute_result"
    }
   ],
   "source": [
    "@population_method(specifier_to_df=0)\n",
    "def only(df):\n",
    "    assert (1, 1) == df.shape\n",
    "    return df.ix[0, 0]\n",
    "s.only('SELECT COUNT(*) FROM %t')"
   ]
  },
  {
   "cell_type": "code",
   "execution_count": 23,
   "metadata": {
    "collapsed": false
   },
   "outputs": [
    {
     "ename": "AttributeError",
     "evalue": "'str' object has no attribute 'shape'",
     "output_type": "error",
     "traceback": [
      "\u001b[0;31m---------------------------------------------------------------------------\u001b[0m",
      "\u001b[0;31mAttributeError\u001b[0m                            Traceback (most recent call last)",
      "\u001b[0;32m<ipython-input-23-5278af9e7bd2>\u001b[0m in \u001b[0;36m<module>\u001b[0;34m()\u001b[0m\n\u001b[0;32m----> 1\u001b[0;31m \u001b[0monly\u001b[0m\u001b[0;34m(\u001b[0m\u001b[0;34m'SELECT COUNT(*) FROM %t'\u001b[0m\u001b[0;34m)\u001b[0m\u001b[0;34m\u001b[0m\u001b[0m\n\u001b[0m",
      "\u001b[0;32m<ipython-input-22-1439b8b0482d>\u001b[0m in \u001b[0;36monly\u001b[0;34m(df)\u001b[0m\n\u001b[1;32m      1\u001b[0m \u001b[0;34m@\u001b[0m\u001b[0mpopulation_method\u001b[0m\u001b[0;34m(\u001b[0m\u001b[0mspecifier_to_df\u001b[0m\u001b[0;34m=\u001b[0m\u001b[0;36m0\u001b[0m\u001b[0;34m)\u001b[0m\u001b[0;34m\u001b[0m\u001b[0m\n\u001b[1;32m      2\u001b[0m \u001b[0;32mdef\u001b[0m \u001b[0monly\u001b[0m\u001b[0;34m(\u001b[0m\u001b[0mdf\u001b[0m\u001b[0;34m)\u001b[0m\u001b[0;34m:\u001b[0m\u001b[0;34m\u001b[0m\u001b[0m\n\u001b[0;32m----> 3\u001b[0;31m     \u001b[0;32massert\u001b[0m \u001b[0;34m(\u001b[0m\u001b[0;36m1\u001b[0m\u001b[0;34m,\u001b[0m \u001b[0;36m1\u001b[0m\u001b[0;34m)\u001b[0m \u001b[0;34m==\u001b[0m \u001b[0mdf\u001b[0m\u001b[0;34m.\u001b[0m\u001b[0mshape\u001b[0m\u001b[0;34m\u001b[0m\u001b[0m\n\u001b[0m\u001b[1;32m      4\u001b[0m     \u001b[0;32mreturn\u001b[0m \u001b[0mdf\u001b[0m\u001b[0;34m.\u001b[0m\u001b[0mix\u001b[0m\u001b[0;34m[\u001b[0m\u001b[0;36m0\u001b[0m\u001b[0;34m,\u001b[0m \u001b[0;36m0\u001b[0m\u001b[0;34m]\u001b[0m\u001b[0;34m\u001b[0m\u001b[0m\n\u001b[1;32m      5\u001b[0m \u001b[0ms\u001b[0m\u001b[0;34m.\u001b[0m\u001b[0monly\u001b[0m\u001b[0;34m(\u001b[0m\u001b[0;34m'SELECT COUNT(*) FROM %t'\u001b[0m\u001b[0;34m)\u001b[0m\u001b[0;34m\u001b[0m\u001b[0m\n",
      "\u001b[0;31mAttributeError\u001b[0m: 'str' object has no attribute 'shape'"
     ]
    }
   ],
   "source": [
    "only('SELECT COUNT(*) FROM %t')"
   ]
  },
  {
   "cell_type": "code",
   "execution_count": 24,
   "metadata": {
    "collapsed": false
   },
   "outputs": [
    {
     "data": {
      "text/html": [
       "<dib class=\"inner_cell\" style=\"background-color:#F7F8E0\">BQL [SELECT COUNT(*) FROM \"satellites\"] ()</div>"
      ]
     },
     "metadata": {},
     "output_type": "display_data"
    },
    {
     "data": {
      "text/plain": [
       "1167.0"
      ]
     },
     "execution_count": 24,
     "metadata": {},
     "output_type": "execute_result"
    }
   ],
   "source": [
    "only(s.q('SELECT COUNT(*) FROM %t'))"
   ]
  },
  {
   "cell_type": "code",
   "execution_count": 26,
   "metadata": {
    "collapsed": false
   },
   "outputs": [
    {
     "data": {
      "text/html": [
       "<dib class=\"inner_cell\" style=\"background-color:#F7F8E0\">BQL [SELECT COUNT(*) FROM \"satellites\"] ()</div>"
      ]
     },
     "metadata": {},
     "output_type": "display_data"
    },
    {
     "data": {
      "text/plain": [
       "1167.0"
      ]
     },
     "execution_count": 26,
     "metadata": {},
     "output_type": "execute_result"
    }
   ],
   "source": [
    "df = s.q('SELECT COUNT(*) FROM %t')\n",
    "s.only(df)"
   ]
  },
  {
   "cell_type": "code",
   "execution_count": 29,
   "metadata": {
    "collapsed": false
   },
   "outputs": [
    {
     "ename": "KeyError",
     "evalue": "'no_such_hook'",
     "output_type": "error",
     "traceback": [
      "\u001b[0;31m---------------------------------------------------------------------------\u001b[0m",
      "\u001b[0;31mKeyError\u001b[0m                                  Traceback (most recent call last)",
      "\u001b[0;32m<ipython-input-29-5fe6a42728c6>\u001b[0m in \u001b[0;36m<module>\u001b[0;34m()\u001b[0m\n\u001b[0;32m----> 1\u001b[0;31m \u001b[0;34m@\u001b[0m\u001b[0mpopulation_method\u001b[0m\u001b[0;34m(\u001b[0m\u001b[0mno_such_hook\u001b[0m\u001b[0;34m=\u001b[0m\u001b[0;36m0\u001b[0m\u001b[0;34m)\u001b[0m\u001b[0;34m\u001b[0m\u001b[0m\n\u001b[0m\u001b[1;32m      2\u001b[0m \u001b[0;32mdef\u001b[0m \u001b[0mfoo\u001b[0m\u001b[0;34m(\u001b[0m\u001b[0;34m)\u001b[0m\u001b[0;34m:\u001b[0m\u001b[0;34m\u001b[0m\u001b[0m\n\u001b[1;32m      3\u001b[0m     \u001b[0;32mreturn\u001b[0m \u001b[0;36m42\u001b[0m\u001b[0;34m\u001b[0m\u001b[0m\n",
      "\u001b[0;32m/Users/probcomp/pc/bdbcontrib/build/lib/bdbcontrib/population_method.pyc\u001b[0m in \u001b[0;36mdecorator\u001b[0;34m(fn)\u001b[0m\n\u001b[1;32m    325\u001b[0m      '''\n\u001b[1;32m    326\u001b[0m   \u001b[0;32mdef\u001b[0m \u001b[0mdecorator\u001b[0m\u001b[0;34m(\u001b[0m\u001b[0mfn\u001b[0m\u001b[0;34m)\u001b[0m\u001b[0;34m:\u001b[0m\u001b[0;34m\u001b[0m\u001b[0m\n\u001b[0;32m--> 327\u001b[0;31m     \u001b[0mxfrms\u001b[0m \u001b[0;34m=\u001b[0m \u001b[0mcompile_argspec_transforms\u001b[0m\u001b[0;34m(\u001b[0m\u001b[0mfn\u001b[0m\u001b[0;34m,\u001b[0m \u001b[0margspec_transforms\u001b[0m\u001b[0;34m)\u001b[0m\u001b[0;34m\u001b[0m\u001b[0m\n\u001b[0m\u001b[1;32m    328\u001b[0m     \u001b[0;32mdef\u001b[0m \u001b[0mas_population_method\u001b[0m\u001b[0;34m(\u001b[0m\u001b[0mself\u001b[0m\u001b[0;34m,\u001b[0m \u001b[0;34m*\u001b[0m\u001b[0margs\u001b[0m\u001b[0;34m,\u001b[0m \u001b[0;34m**\u001b[0m\u001b[0mkwargs\u001b[0m\u001b[0;34m)\u001b[0m\u001b[0;34m:\u001b[0m\u001b[0;34m\u001b[0m\u001b[0m\n\u001b[1;32m    329\u001b[0m       with logged_query(query_string=fn.__code__.co_name,\n",
      "\u001b[0;32m/Users/probcomp/pc/bdbcontrib/build/lib/bdbcontrib/population_method.pyc\u001b[0m in \u001b[0;36mcompile_argspec_transforms\u001b[0;34m(fn, argspecs)\u001b[0m\n\u001b[1;32m    142\u001b[0m   \u001b[0moptional_names\u001b[0m \u001b[0;34m=\u001b[0m \u001b[0mco_varnames\u001b[0m\u001b[0;34m[\u001b[0m\u001b[0mnum_required\u001b[0m\u001b[0;34m:\u001b[0m\u001b[0;34m]\u001b[0m\u001b[0;34m\u001b[0m\u001b[0m\n\u001b[1;32m    143\u001b[0m   \u001b[0;32mfor\u001b[0m \u001b[0mkey\u001b[0m\u001b[0;34m,\u001b[0m \u001b[0margspec\u001b[0m \u001b[0;32min\u001b[0m \u001b[0margspecs\u001b[0m\u001b[0;34m.\u001b[0m\u001b[0miteritems\u001b[0m\u001b[0;34m(\u001b[0m\u001b[0;34m)\u001b[0m\u001b[0;34m:\u001b[0m\u001b[0;34m\u001b[0m\u001b[0m\n\u001b[0;32m--> 144\u001b[0;31m     \u001b[0mxform\u001b[0m \u001b[0;34m=\u001b[0m \u001b[0mARGSPEC_TRANSFORMS\u001b[0m\u001b[0;34m[\u001b[0m\u001b[0mkey\u001b[0m\u001b[0;34m]\u001b[0m\u001b[0;34m\u001b[0m\u001b[0m\n\u001b[0m\u001b[1;32m    145\u001b[0m     \u001b[0;32mfor\u001b[0m \u001b[0margitem\u001b[0m \u001b[0;32min\u001b[0m \u001b[0;34m(\u001b[0m\u001b[0margspec\u001b[0m \u001b[0;32mif\u001b[0m \u001b[0mhasattr\u001b[0m\u001b[0;34m(\u001b[0m\u001b[0margspec\u001b[0m\u001b[0;34m,\u001b[0m \u001b[0;34m'__iter__'\u001b[0m\u001b[0;34m)\u001b[0m \u001b[0;32melse\u001b[0m \u001b[0;34m[\u001b[0m\u001b[0margspec\u001b[0m\u001b[0;34m]\u001b[0m\u001b[0;34m)\u001b[0m\u001b[0;34m:\u001b[0m\u001b[0;34m\u001b[0m\u001b[0m\n\u001b[1;32m    146\u001b[0m       \u001b[0;32mif\u001b[0m \u001b[0misinstance\u001b[0m\u001b[0;34m(\u001b[0m\u001b[0margitem\u001b[0m\u001b[0;34m,\u001b[0m \u001b[0mint\u001b[0m\u001b[0;34m)\u001b[0m\u001b[0;34m:\u001b[0m\u001b[0;34m\u001b[0m\u001b[0m\n",
      "\u001b[0;31mKeyError\u001b[0m: 'no_such_hook'"
     ]
    }
   ],
   "source": [
    "@population_method(no_such_hook=0)\n",
    "def foo():\n",
    "    return 42"
   ]
  },
  {
   "cell_type": "code",
   "execution_count": 30,
   "metadata": {
    "collapsed": false
   },
   "outputs": [
    {
     "ename": "IndexError",
     "evalue": "Invalid positional specifier for foo: 1",
     "output_type": "error",
     "traceback": [
      "\u001b[0;31m---------------------------------------------------------------------------\u001b[0m",
      "\u001b[0;31mIndexError\u001b[0m                                Traceback (most recent call last)",
      "\u001b[0;32m<ipython-input-30-65a4cde6bdd5>\u001b[0m in \u001b[0;36m<module>\u001b[0;34m()\u001b[0m\n\u001b[0;32m----> 1\u001b[0;31m \u001b[0;34m@\u001b[0m\u001b[0mpopulation_method\u001b[0m\u001b[0;34m(\u001b[0m\u001b[0mpopulation_name\u001b[0m\u001b[0;34m=\u001b[0m\u001b[0;36m1\u001b[0m\u001b[0;34m)\u001b[0m\u001b[0;34m\u001b[0m\u001b[0m\n\u001b[0m\u001b[1;32m      2\u001b[0m \u001b[0;32mdef\u001b[0m \u001b[0mfoo\u001b[0m\u001b[0;34m(\u001b[0m\u001b[0mbar\u001b[0m\u001b[0;34m)\u001b[0m\u001b[0;34m:\u001b[0m\u001b[0;34m\u001b[0m\u001b[0m\n\u001b[1;32m      3\u001b[0m     \u001b[0;32mreturn\u001b[0m \u001b[0;36m42\u001b[0m\u001b[0;34m\u001b[0m\u001b[0m\n",
      "\u001b[0;32m/Users/probcomp/pc/bdbcontrib/build/lib/bdbcontrib/population_method.pyc\u001b[0m in \u001b[0;36mdecorator\u001b[0;34m(fn)\u001b[0m\n\u001b[1;32m    325\u001b[0m      '''\n\u001b[1;32m    326\u001b[0m   \u001b[0;32mdef\u001b[0m \u001b[0mdecorator\u001b[0m\u001b[0;34m(\u001b[0m\u001b[0mfn\u001b[0m\u001b[0;34m)\u001b[0m\u001b[0;34m:\u001b[0m\u001b[0;34m\u001b[0m\u001b[0m\n\u001b[0;32m--> 327\u001b[0;31m     \u001b[0mxfrms\u001b[0m \u001b[0;34m=\u001b[0m \u001b[0mcompile_argspec_transforms\u001b[0m\u001b[0;34m(\u001b[0m\u001b[0mfn\u001b[0m\u001b[0;34m,\u001b[0m \u001b[0margspec_transforms\u001b[0m\u001b[0;34m)\u001b[0m\u001b[0;34m\u001b[0m\u001b[0m\n\u001b[0m\u001b[1;32m    328\u001b[0m     \u001b[0;32mdef\u001b[0m \u001b[0mas_population_method\u001b[0m\u001b[0;34m(\u001b[0m\u001b[0mself\u001b[0m\u001b[0;34m,\u001b[0m \u001b[0;34m*\u001b[0m\u001b[0margs\u001b[0m\u001b[0;34m,\u001b[0m \u001b[0;34m**\u001b[0m\u001b[0mkwargs\u001b[0m\u001b[0;34m)\u001b[0m\u001b[0;34m:\u001b[0m\u001b[0;34m\u001b[0m\u001b[0m\n\u001b[1;32m    329\u001b[0m       with logged_query(query_string=fn.__code__.co_name,\n",
      "\u001b[0;32m/Users/probcomp/pc/bdbcontrib/build/lib/bdbcontrib/population_method.pyc\u001b[0m in \u001b[0;36mcompile_argspec_transforms\u001b[0;34m(fn, argspecs)\u001b[0m\n\u001b[1;32m    147\u001b[0m         \u001b[0;32mif\u001b[0m \u001b[0margitem\u001b[0m \u001b[0;34m>=\u001b[0m \u001b[0mnum_required\u001b[0m \u001b[0;32mor\u001b[0m \u001b[0margitem\u001b[0m \u001b[0;34m<\u001b[0m \u001b[0;36m0\u001b[0m\u001b[0;34m:\u001b[0m\u001b[0;34m\u001b[0m\u001b[0m\n\u001b[1;32m    148\u001b[0m           raise IndexError(\n\u001b[0;32m--> 149\u001b[0;31m             'Invalid positional specifier for %s: %d' % (fn.__name__, argitem))\n\u001b[0m\u001b[1;32m    150\u001b[0m         \u001b[0;32mif\u001b[0m \u001b[0mrequired_transformers\u001b[0m\u001b[0;34m[\u001b[0m\u001b[0margitem\u001b[0m\u001b[0;34m]\u001b[0m \u001b[0;32mis\u001b[0m \u001b[0;32mnot\u001b[0m \u001b[0mNone\u001b[0m\u001b[0;34m:\u001b[0m\u001b[0;34m\u001b[0m\u001b[0m\n\u001b[1;32m    151\u001b[0m           raise IndexError(\n",
      "\u001b[0;31mIndexError\u001b[0m: Invalid positional specifier for foo: 1"
     ]
    }
   ],
   "source": [
    "@population_method(population_name=1)\n",
    "def foo(bar):\n",
    "    return 42"
   ]
  },
  {
   "cell_type": "code",
   "execution_count": 31,
   "metadata": {
    "collapsed": false
   },
   "outputs": [
    {
     "ename": "IndexError",
     "evalue": "No such optional argument for foo: pub",
     "output_type": "error",
     "traceback": [
      "\u001b[0;31m---------------------------------------------------------------------------\u001b[0m",
      "\u001b[0;31mIndexError\u001b[0m                                Traceback (most recent call last)",
      "\u001b[0;32m<ipython-input-31-6ee78d7cf92c>\u001b[0m in \u001b[0;36m<module>\u001b[0;34m()\u001b[0m\n\u001b[0;32m----> 1\u001b[0;31m \u001b[0;34m@\u001b[0m\u001b[0mpopulation_method\u001b[0m\u001b[0;34m(\u001b[0m\u001b[0mpopulation_name\u001b[0m\u001b[0;34m=\u001b[0m\u001b[0;34m\"pub\"\u001b[0m\u001b[0;34m)\u001b[0m\u001b[0;34m\u001b[0m\u001b[0m\n\u001b[0m\u001b[1;32m      2\u001b[0m \u001b[0;32mdef\u001b[0m \u001b[0mfoo\u001b[0m\u001b[0;34m(\u001b[0m\u001b[0mbar\u001b[0m\u001b[0;34m)\u001b[0m\u001b[0;34m:\u001b[0m\u001b[0;34m\u001b[0m\u001b[0m\n\u001b[1;32m      3\u001b[0m     \u001b[0;32mreturn\u001b[0m \u001b[0;36m42\u001b[0m\u001b[0;34m\u001b[0m\u001b[0m\n",
      "\u001b[0;32m/Users/probcomp/pc/bdbcontrib/build/lib/bdbcontrib/population_method.pyc\u001b[0m in \u001b[0;36mdecorator\u001b[0;34m(fn)\u001b[0m\n\u001b[1;32m    325\u001b[0m      '''\n\u001b[1;32m    326\u001b[0m   \u001b[0;32mdef\u001b[0m \u001b[0mdecorator\u001b[0m\u001b[0;34m(\u001b[0m\u001b[0mfn\u001b[0m\u001b[0;34m)\u001b[0m\u001b[0;34m:\u001b[0m\u001b[0;34m\u001b[0m\u001b[0m\n\u001b[0;32m--> 327\u001b[0;31m     \u001b[0mxfrms\u001b[0m \u001b[0;34m=\u001b[0m \u001b[0mcompile_argspec_transforms\u001b[0m\u001b[0;34m(\u001b[0m\u001b[0mfn\u001b[0m\u001b[0;34m,\u001b[0m \u001b[0margspec_transforms\u001b[0m\u001b[0;34m)\u001b[0m\u001b[0;34m\u001b[0m\u001b[0m\n\u001b[0m\u001b[1;32m    328\u001b[0m     \u001b[0;32mdef\u001b[0m \u001b[0mas_population_method\u001b[0m\u001b[0;34m(\u001b[0m\u001b[0mself\u001b[0m\u001b[0;34m,\u001b[0m \u001b[0;34m*\u001b[0m\u001b[0margs\u001b[0m\u001b[0;34m,\u001b[0m \u001b[0;34m**\u001b[0m\u001b[0mkwargs\u001b[0m\u001b[0;34m)\u001b[0m\u001b[0;34m:\u001b[0m\u001b[0;34m\u001b[0m\u001b[0m\n\u001b[1;32m    329\u001b[0m       with logged_query(query_string=fn.__code__.co_name,\n",
      "\u001b[0;32m/Users/probcomp/pc/bdbcontrib/build/lib/bdbcontrib/population_method.pyc\u001b[0m in \u001b[0;36mcompile_argspec_transforms\u001b[0;34m(fn, argspecs)\u001b[0m\n\u001b[1;32m    155\u001b[0m         \u001b[0;32mif\u001b[0m \u001b[0margitem\u001b[0m \u001b[0;32mnot\u001b[0m \u001b[0;32min\u001b[0m \u001b[0moptional_names\u001b[0m\u001b[0;34m:\u001b[0m\u001b[0;34m\u001b[0m\u001b[0m\n\u001b[1;32m    156\u001b[0m           raise IndexError(\n\u001b[0;32m--> 157\u001b[0;31m             'No such optional argument for %s: %s' % (fn.__name__, argitem))\n\u001b[0m\u001b[1;32m    158\u001b[0m         \u001b[0;32mif\u001b[0m \u001b[0margitem\u001b[0m \u001b[0;32min\u001b[0m \u001b[0moptional_transformers\u001b[0m\u001b[0;34m:\u001b[0m\u001b[0;34m\u001b[0m\u001b[0m\n\u001b[1;32m    159\u001b[0m           raise IndexError(\n",
      "\u001b[0;31mIndexError\u001b[0m: No such optional argument for foo: pub"
     ]
    }
   ],
   "source": [
    "@population_method(population_name=\"pub\")\n",
    "def foo(bar):\n",
    "    return 42"
   ]
  },
  {
   "cell_type": "code",
   "execution_count": 32,
   "metadata": {
    "collapsed": false
   },
   "outputs": [
    {
     "ename": "TypeError",
     "evalue": "__main__.only() takes at most 1 arguments (3 given)",
     "output_type": "error",
     "traceback": [
      "\u001b[0;31m---------------------------------------------------------------------------\u001b[0m",
      "\u001b[0;31mTypeError\u001b[0m                                 Traceback (most recent call last)",
      "\u001b[0;32m<ipython-input-32-44a0bbc54993>\u001b[0m in \u001b[0;36m<module>\u001b[0;34m()\u001b[0m\n\u001b[0;32m----> 1\u001b[0;31m \u001b[0ms\u001b[0m\u001b[0;34m.\u001b[0m\u001b[0monly\u001b[0m\u001b[0;34m(\u001b[0m\u001b[0;36m3\u001b[0m\u001b[0;34m,\u001b[0m \u001b[0;36m4\u001b[0m\u001b[0;34m,\u001b[0m \u001b[0;36m5\u001b[0m\u001b[0;34m)\u001b[0m\u001b[0;34m\u001b[0m\u001b[0m\n\u001b[0m",
      "\u001b[0;32m/Users/probcomp/pc/bdbcontrib/build/lib/bdbcontrib/population_method.pyc\u001b[0m in \u001b[0;36mas_population_method\u001b[0;34m(self, *args, **kwargs)\u001b[0m\n\u001b[1;32m    331\u001b[0m                         name=self.session_capture_name):\n\u001b[1;32m    332\u001b[0m         \u001b[0mself\u001b[0m\u001b[0;34m.\u001b[0m\u001b[0mcheck_representation\u001b[0m\u001b[0;34m(\u001b[0m\u001b[0;34m)\u001b[0m\u001b[0;34m\u001b[0m\u001b[0m\n\u001b[0;32m--> 333\u001b[0;31m         \u001b[0;34m(\u001b[0m\u001b[0mdargs\u001b[0m\u001b[0;34m,\u001b[0m \u001b[0mdkwargs\u001b[0m\u001b[0;34m)\u001b[0m \u001b[0;34m=\u001b[0m \u001b[0mapply_argspec_transforms\u001b[0m\u001b[0;34m(\u001b[0m\u001b[0mself\u001b[0m\u001b[0;34m,\u001b[0m \u001b[0mxfrms\u001b[0m\u001b[0;34m,\u001b[0m \u001b[0margs\u001b[0m\u001b[0;34m,\u001b[0m \u001b[0mkwargs\u001b[0m\u001b[0;34m)\u001b[0m\u001b[0;34m\u001b[0m\u001b[0m\n\u001b[0m\u001b[1;32m    334\u001b[0m         \u001b[0mresult\u001b[0m \u001b[0;34m=\u001b[0m \u001b[0mNone\u001b[0m\u001b[0;34m\u001b[0m\u001b[0m\n\u001b[1;32m    335\u001b[0m         \u001b[0;32mtry\u001b[0m\u001b[0;34m:\u001b[0m\u001b[0;34m\u001b[0m\u001b[0m\n",
      "\u001b[0;32m/Users/probcomp/pc/bdbcontrib/build/lib/bdbcontrib/population_method.pyc\u001b[0m in \u001b[0;36mapply_argspec_transforms\u001b[0;34m(pop, argspecs, args, kwargs)\u001b[0m\n\u001b[1;32m    268\u001b[0m         \u001b[0;32melse\u001b[0m\u001b[0;34m:\u001b[0m\u001b[0;34m\u001b[0m\u001b[0m\n\u001b[1;32m    269\u001b[0m           raise TypeError(\"%s() takes at most %d arguments (%d given)\" %\n\u001b[0;32m--> 270\u001b[0;31m                           (argspecs['name'], max_args, len(args) + len(kwargs)))\n\u001b[0m\u001b[1;32m    271\u001b[0m \u001b[0;34m\u001b[0m\u001b[0m\n\u001b[1;32m    272\u001b[0m   \u001b[0mnew_args\u001b[0m \u001b[0;34m=\u001b[0m \u001b[0;34m[\u001b[0m\u001b[0;34m]\u001b[0m\u001b[0;34m\u001b[0m\u001b[0m\n",
      "\u001b[0;31mTypeError\u001b[0m: __main__.only() takes at most 1 arguments (3 given)"
     ]
    }
   ],
   "source": [
    "s.only(3, 4, 5)"
   ]
  },
  {
   "cell_type": "code",
   "execution_count": 33,
   "metadata": {
    "collapsed": false
   },
   "outputs": [
    {
     "ename": "TypeError",
     "evalue": "__main__.only() takes at least 1 arguments (0 given)",
     "output_type": "error",
     "traceback": [
      "\u001b[0;31m---------------------------------------------------------------------------\u001b[0m",
      "\u001b[0;31mTypeError\u001b[0m                                 Traceback (most recent call last)",
      "\u001b[0;32m<ipython-input-33-dc91630dc2cb>\u001b[0m in \u001b[0;36m<module>\u001b[0;34m()\u001b[0m\n\u001b[0;32m----> 1\u001b[0;31m \u001b[0ms\u001b[0m\u001b[0;34m.\u001b[0m\u001b[0monly\u001b[0m\u001b[0;34m(\u001b[0m\u001b[0;34m)\u001b[0m\u001b[0;34m\u001b[0m\u001b[0m\n\u001b[0m",
      "\u001b[0;32m/Users/probcomp/pc/bdbcontrib/build/lib/bdbcontrib/population_method.pyc\u001b[0m in \u001b[0;36mas_population_method\u001b[0;34m(self, *args, **kwargs)\u001b[0m\n\u001b[1;32m    331\u001b[0m                         name=self.session_capture_name):\n\u001b[1;32m    332\u001b[0m         \u001b[0mself\u001b[0m\u001b[0;34m.\u001b[0m\u001b[0mcheck_representation\u001b[0m\u001b[0;34m(\u001b[0m\u001b[0;34m)\u001b[0m\u001b[0;34m\u001b[0m\u001b[0m\n\u001b[0;32m--> 333\u001b[0;31m         \u001b[0;34m(\u001b[0m\u001b[0mdargs\u001b[0m\u001b[0;34m,\u001b[0m \u001b[0mdkwargs\u001b[0m\u001b[0;34m)\u001b[0m \u001b[0;34m=\u001b[0m \u001b[0mapply_argspec_transforms\u001b[0m\u001b[0;34m(\u001b[0m\u001b[0mself\u001b[0m\u001b[0;34m,\u001b[0m \u001b[0mxfrms\u001b[0m\u001b[0;34m,\u001b[0m \u001b[0margs\u001b[0m\u001b[0;34m,\u001b[0m \u001b[0mkwargs\u001b[0m\u001b[0;34m)\u001b[0m\u001b[0;34m\u001b[0m\u001b[0m\n\u001b[0m\u001b[1;32m    334\u001b[0m         \u001b[0mresult\u001b[0m \u001b[0;34m=\u001b[0m \u001b[0mNone\u001b[0m\u001b[0;34m\u001b[0m\u001b[0m\n\u001b[1;32m    335\u001b[0m         \u001b[0;32mtry\u001b[0m\u001b[0;34m:\u001b[0m\u001b[0;34m\u001b[0m\u001b[0m\n",
      "\u001b[0;32m/Users/probcomp/pc/bdbcontrib/build/lib/bdbcontrib/population_method.pyc\u001b[0m in \u001b[0;36mapply_argspec_transforms\u001b[0;34m(pop, argspecs, args, kwargs)\u001b[0m\n\u001b[1;32m    246\u001b[0m       raise TypeError(\"%s() takes at least %d arguments (%d given)\" %\n\u001b[1;32m    247\u001b[0m                       (argspecs['name'], len(required_names),\n\u001b[0;32m--> 248\u001b[0;31m                        len(args) + len(kwargs)))\n\u001b[0m\u001b[1;32m    249\u001b[0m \u001b[0;34m\u001b[0m\u001b[0m\n\u001b[1;32m    250\u001b[0m   \u001b[0mnew_varargs\u001b[0m \u001b[0;34m=\u001b[0m \u001b[0;34m[\u001b[0m\u001b[0;34m]\u001b[0m\u001b[0;34m\u001b[0m\u001b[0m\n",
      "\u001b[0;31mTypeError\u001b[0m: __main__.only() takes at least 1 arguments (0 given)"
     ]
    }
   ],
   "source": [
    "s.only()"
   ]
  },
  {
   "cell_type": "code",
   "execution_count": 35,
   "metadata": {
    "collapsed": false
   },
   "outputs": [
    {
     "ename": "TypeError",
     "evalue": "__main__.only() takes at least 1 arguments (1 given)",
     "output_type": "error",
     "traceback": [
      "\u001b[0;31m---------------------------------------------------------------------------\u001b[0m",
      "\u001b[0;31mTypeError\u001b[0m                                 Traceback (most recent call last)",
      "\u001b[0;32m<ipython-input-35-8c488c1ecc21>\u001b[0m in \u001b[0;36m<module>\u001b[0;34m()\u001b[0m\n\u001b[0;32m----> 1\u001b[0;31m \u001b[0ms\u001b[0m\u001b[0;34m.\u001b[0m\u001b[0monly\u001b[0m\u001b[0;34m(\u001b[0m\u001b[0mbar\u001b[0m\u001b[0;34m=\u001b[0m\u001b[0;34m\"five\"\u001b[0m\u001b[0;34m)\u001b[0m  \u001b[0;31m# I hate this message, but it's the one python gives for similar errors on regular functions...\u001b[0m\u001b[0;34m\u001b[0m\u001b[0m\n\u001b[0m",
      "\u001b[0;32m/Users/probcomp/pc/bdbcontrib/build/lib/bdbcontrib/population_method.pyc\u001b[0m in \u001b[0;36mas_population_method\u001b[0;34m(self, *args, **kwargs)\u001b[0m\n\u001b[1;32m    331\u001b[0m                         name=self.session_capture_name):\n\u001b[1;32m    332\u001b[0m         \u001b[0mself\u001b[0m\u001b[0;34m.\u001b[0m\u001b[0mcheck_representation\u001b[0m\u001b[0;34m(\u001b[0m\u001b[0;34m)\u001b[0m\u001b[0;34m\u001b[0m\u001b[0m\n\u001b[0;32m--> 333\u001b[0;31m         \u001b[0;34m(\u001b[0m\u001b[0mdargs\u001b[0m\u001b[0;34m,\u001b[0m \u001b[0mdkwargs\u001b[0m\u001b[0;34m)\u001b[0m \u001b[0;34m=\u001b[0m \u001b[0mapply_argspec_transforms\u001b[0m\u001b[0;34m(\u001b[0m\u001b[0mself\u001b[0m\u001b[0;34m,\u001b[0m \u001b[0mxfrms\u001b[0m\u001b[0;34m,\u001b[0m \u001b[0margs\u001b[0m\u001b[0;34m,\u001b[0m \u001b[0mkwargs\u001b[0m\u001b[0;34m)\u001b[0m\u001b[0;34m\u001b[0m\u001b[0m\n\u001b[0m\u001b[1;32m    334\u001b[0m         \u001b[0mresult\u001b[0m \u001b[0;34m=\u001b[0m \u001b[0mNone\u001b[0m\u001b[0;34m\u001b[0m\u001b[0m\n\u001b[1;32m    335\u001b[0m         \u001b[0;32mtry\u001b[0m\u001b[0;34m:\u001b[0m\u001b[0;34m\u001b[0m\u001b[0m\n",
      "\u001b[0;32m/Users/probcomp/pc/bdbcontrib/build/lib/bdbcontrib/population_method.pyc\u001b[0m in \u001b[0;36mapply_argspec_transforms\u001b[0;34m(pop, argspecs, args, kwargs)\u001b[0m\n\u001b[1;32m    246\u001b[0m       raise TypeError(\"%s() takes at least %d arguments (%d given)\" %\n\u001b[1;32m    247\u001b[0m                       (argspecs['name'], len(required_names),\n\u001b[0;32m--> 248\u001b[0;31m                        len(args) + len(kwargs)))\n\u001b[0m\u001b[1;32m    249\u001b[0m \u001b[0;34m\u001b[0m\u001b[0m\n\u001b[1;32m    250\u001b[0m   \u001b[0mnew_varargs\u001b[0m \u001b[0;34m=\u001b[0m \u001b[0;34m[\u001b[0m\u001b[0;34m]\u001b[0m\u001b[0;34m\u001b[0m\u001b[0m\n",
      "\u001b[0;31mTypeError\u001b[0m: __main__.only() takes at least 1 arguments (1 given)"
     ]
    }
   ],
   "source": [
    "s.only(bar=\"five\")  # I hate this message, but it's the one python gives for similar errors on regular functions..."
   ]
  },
  {
   "cell_type": "code",
   "execution_count": 57,
   "metadata": {
    "collapsed": false
   },
   "outputs": [
    {
     "name": "stdout",
     "output_type": "stream",
     "text": [
      "Help on method as_population_method in module bdbcontrib.population_method:\n",
      "\n",
      "as_population_method(self, *args, **kwargs) method of bdbcontrib.population.Population instance\n",
      "    This is documentation!\n",
      "    \n",
      "    df1: a pandas.DataFrame or BQL query.\n",
      "      The first thing.\n",
      "    df2: a pandas.DataFrame or BQL query.\n",
      "      The second thing.\n",
      "    number: some numerical thing.\n",
      "\n"
     ]
    }
   ],
   "source": [
    "@population_method(population_name=0, specifier_to_df=[1, 2])\n",
    "def quux(name, df1, df2, number):\n",
    "    \"\"\"This is documentation!\n",
    "    \n",
    "    name: __population_name__\n",
    "    df1: __specifier_to_df__\n",
    "      The first thing.\n",
    "    df2: __specifier_to_df__\n",
    "      The second thing.\n",
    "    number: some numerical thing.\n",
    "    \"\"\"\n",
    "    return '\\n\\n'.join([str(i) for i in [name, df1, df2, number]])\n",
    "\n",
    "help(s.quux)"
   ]
  },
  {
   "cell_type": "code",
   "execution_count": 58,
   "metadata": {
    "collapsed": false
   },
   "outputs": [
    {
     "name": "stdout",
     "output_type": "stream",
     "text": [
      "Help on function quux in module __main__:\n",
      "\n",
      "quux(name, df1, df2, number)\n",
      "    This is documentation!\n",
      "    \n",
      "    name: str\n",
      "        the name of the relevant table in the bdb.\n",
      "    df1: a pandas.DataFrame.\n",
      "      The first thing.\n",
      "    df2: a pandas.DataFrame.\n",
      "      The second thing.\n",
      "    number: some numerical thing.\n",
      "\n"
     ]
    }
   ],
   "source": [
    "help(quux)"
   ]
  },
  {
   "cell_type": "code",
   "execution_count": 59,
   "metadata": {
    "collapsed": false
   },
   "outputs": [
    {
     "data": {
      "text/html": [
       "<dib class=\"inner_cell\" style=\"background-color:#F7F8E0\">BQL [SELECT COUNT(*) FROM \"satellites\"] ()</div>"
      ]
     },
     "metadata": {},
     "output_type": "display_data"
    },
    {
     "data": {
      "text/html": [
       "<dib class=\"inner_cell\" style=\"background-color:#F7F8E0\">BQL [ESTIMATE DEPENDENCE PROBABILITY FROM PAIRWISE COLUMNS OF \"satellites_cc\" FOR \"Apogee_km\", \"Perigee_km\"] ()</div>"
      ]
     },
     "metadata": {},
     "output_type": "display_data"
    },
    {
     "name": "stdout",
     "output_type": "stream",
     "text": [
      "satellites\n",
      "\n",
      "   \"COUNT\"(*)\n",
      "0        1167\n",
      "\n",
      "   generator_id       name0       name1  value\n",
      "0             1  Perigee_km  Perigee_km      1\n",
      "1             1  Perigee_km   Apogee_km      1\n",
      "2             1   Apogee_km  Perigee_km      1\n",
      "3             1   Apogee_km   Apogee_km      1\n",
      "\n",
      "42\n"
     ]
    }
   ],
   "source": [
    "print s.quux('SELECT COUNT(*) FROM %t',\n",
    "              'ESTIMATE DEPENDENCE PROBABILITY FROM PAIRWISE COLUMNS OF %g FOR \"Apogee_km\", \"Perigee_km\"', \n",
    "              42)"
   ]
  },
  {
   "cell_type": "code",
   "execution_count": null,
   "metadata": {
    "collapsed": true
   },
   "outputs": [],
   "source": []
  },
  {
   "cell_type": "code",
   "execution_count": null,
   "metadata": {
    "collapsed": true
   },
   "outputs": [],
   "source": []
  }
 ],
 "metadata": {
  "kernelspec": {
   "display_name": "Python 2",
   "language": "python",
   "name": "python2"
  },
  "language_info": {
   "codemirror_mode": {
    "name": "ipython",
    "version": 2
   },
   "file_extension": ".py",
   "mimetype": "text/x-python",
   "name": "python",
   "nbconvert_exporter": "python",
   "pygments_lexer": "ipython2",
   "version": "2.7.11"
  }
 },
 "nbformat": 4,
 "nbformat_minor": 0
}
